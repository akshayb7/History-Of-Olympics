{
  "cells": [
    {
      "metadata": {
        "_uuid": "bc2ca5f9b77d012def5e917fe3c51b9b16a06bd1"
      },
      "cell_type": "markdown",
      "source": "## Preparation"
    },
    {
      "metadata": {
        "_uuid": "04541da4092bbc5b7baf0f13e2d60b617bca1f81"
      },
      "cell_type": "markdown",
      "source": "### Importing modules"
    },
    {
      "metadata": {
        "_uuid": "8f2839f25d086af736a60e9eeb907d3b93b6e0e5",
        "_cell_guid": "b1076dfc-b9ad-4769-8c92-a6c4dae69d19",
        "trusted": true
      },
      "cell_type": "code",
      "source": "import numpy as np # linear algebra\nimport pandas as pd # data processing, CSV file I/O (e.g. pd.read_csv)\nimport matplotlib.pyplot as plt\nimport seaborn as sns\n\nimport os\nprint(os.listdir(\"../input\"))\n\nplt.style.use('ggplot')\n%matplotlib inline",
      "execution_count": 114,
      "outputs": [
        {
          "output_type": "stream",
          "text": "['athlete_events.csv', 'noc_regions.csv']\n",
          "name": "stdout"
        }
      ]
    },
    {
      "metadata": {
        "_cell_guid": "79c7e3d0-c299-4dcb-8224-4455121ee9b0",
        "collapsed": true,
        "_uuid": "d629ff2d2480ee46fbb7e2d37f6b5fab8052498a",
        "trusted": false
      },
      "cell_type": "markdown",
      "source": "### Importing files"
    },
    {
      "metadata": {
        "trusted": true,
        "_uuid": "a287c3a5909435d047d63bb0de50f898c09e990a"
      },
      "cell_type": "code",
      "source": "PATH = '../input/'\nevents = pd.read_csv(f'{PATH}athlete_events.csv')\nregions = pd.read_csv(f'{PATH}noc_regions.csv')",
      "execution_count": 115,
      "outputs": []
    },
    {
      "metadata": {
        "_uuid": "302db107e5b6140a59a9e31015df6f0d8f5eae05"
      },
      "cell_type": "markdown",
      "source": "### Exploration"
    },
    {
      "metadata": {
        "trusted": true,
        "_uuid": "ada5a4d954d9e834df648727302ae638a882c65e"
      },
      "cell_type": "code",
      "source": "events.head()",
      "execution_count": 116,
      "outputs": [
        {
          "output_type": "execute_result",
          "execution_count": 116,
          "data": {
            "text/plain": "   ID                      Name  ...                               Event  Medal\n0   1                 A Dijiang  ...         Basketball Men's Basketball    NaN\n1   2                  A Lamusi  ...        Judo Men's Extra-Lightweight    NaN\n2   3       Gunnar Nielsen Aaby  ...             Football Men's Football    NaN\n3   4      Edgar Lindenau Aabye  ...         Tug-Of-War Men's Tug-Of-War   Gold\n4   5  Christine Jacoba Aaftink  ...    Speed Skating Women's 500 metres    NaN\n\n[5 rows x 15 columns]",
            "text/html": "<div>\n<style scoped>\n    .dataframe tbody tr th:only-of-type {\n        vertical-align: middle;\n    }\n\n    .dataframe tbody tr th {\n        vertical-align: top;\n    }\n\n    .dataframe thead th {\n        text-align: right;\n    }\n</style>\n<table border=\"1\" class=\"dataframe\">\n  <thead>\n    <tr style=\"text-align: right;\">\n      <th></th>\n      <th>ID</th>\n      <th>Name</th>\n      <th>Sex</th>\n      <th>Age</th>\n      <th>Height</th>\n      <th>Weight</th>\n      <th>Team</th>\n      <th>NOC</th>\n      <th>Games</th>\n      <th>Year</th>\n      <th>Season</th>\n      <th>City</th>\n      <th>Sport</th>\n      <th>Event</th>\n      <th>Medal</th>\n    </tr>\n  </thead>\n  <tbody>\n    <tr>\n      <th>0</th>\n      <td>1</td>\n      <td>A Dijiang</td>\n      <td>M</td>\n      <td>24.0</td>\n      <td>180.0</td>\n      <td>80.0</td>\n      <td>China</td>\n      <td>CHN</td>\n      <td>1992 Summer</td>\n      <td>1992</td>\n      <td>Summer</td>\n      <td>Barcelona</td>\n      <td>Basketball</td>\n      <td>Basketball Men's Basketball</td>\n      <td>NaN</td>\n    </tr>\n    <tr>\n      <th>1</th>\n      <td>2</td>\n      <td>A Lamusi</td>\n      <td>M</td>\n      <td>23.0</td>\n      <td>170.0</td>\n      <td>60.0</td>\n      <td>China</td>\n      <td>CHN</td>\n      <td>2012 Summer</td>\n      <td>2012</td>\n      <td>Summer</td>\n      <td>London</td>\n      <td>Judo</td>\n      <td>Judo Men's Extra-Lightweight</td>\n      <td>NaN</td>\n    </tr>\n    <tr>\n      <th>2</th>\n      <td>3</td>\n      <td>Gunnar Nielsen Aaby</td>\n      <td>M</td>\n      <td>24.0</td>\n      <td>NaN</td>\n      <td>NaN</td>\n      <td>Denmark</td>\n      <td>DEN</td>\n      <td>1920 Summer</td>\n      <td>1920</td>\n      <td>Summer</td>\n      <td>Antwerpen</td>\n      <td>Football</td>\n      <td>Football Men's Football</td>\n      <td>NaN</td>\n    </tr>\n    <tr>\n      <th>3</th>\n      <td>4</td>\n      <td>Edgar Lindenau Aabye</td>\n      <td>M</td>\n      <td>34.0</td>\n      <td>NaN</td>\n      <td>NaN</td>\n      <td>Denmark/Sweden</td>\n      <td>DEN</td>\n      <td>1900 Summer</td>\n      <td>1900</td>\n      <td>Summer</td>\n      <td>Paris</td>\n      <td>Tug-Of-War</td>\n      <td>Tug-Of-War Men's Tug-Of-War</td>\n      <td>Gold</td>\n    </tr>\n    <tr>\n      <th>4</th>\n      <td>5</td>\n      <td>Christine Jacoba Aaftink</td>\n      <td>F</td>\n      <td>21.0</td>\n      <td>185.0</td>\n      <td>82.0</td>\n      <td>Netherlands</td>\n      <td>NED</td>\n      <td>1988 Winter</td>\n      <td>1988</td>\n      <td>Winter</td>\n      <td>Calgary</td>\n      <td>Speed Skating</td>\n      <td>Speed Skating Women's 500 metres</td>\n      <td>NaN</td>\n    </tr>\n  </tbody>\n</table>\n</div>"
          },
          "metadata": {}
        }
      ]
    },
    {
      "metadata": {
        "trusted": true,
        "_uuid": "e5e6174db8f2486e229dd65f692d08abb045b371"
      },
      "cell_type": "code",
      "source": "regions.head()",
      "execution_count": 117,
      "outputs": [
        {
          "output_type": "execute_result",
          "execution_count": 117,
          "data": {
            "text/plain": "   NOC       region                 notes\n0  AFG  Afghanistan                   NaN\n1  AHO      Curacao  Netherlands Antilles\n2  ALB      Albania                   NaN\n3  ALG      Algeria                   NaN\n4  AND      Andorra                   NaN",
            "text/html": "<div>\n<style scoped>\n    .dataframe tbody tr th:only-of-type {\n        vertical-align: middle;\n    }\n\n    .dataframe tbody tr th {\n        vertical-align: top;\n    }\n\n    .dataframe thead th {\n        text-align: right;\n    }\n</style>\n<table border=\"1\" class=\"dataframe\">\n  <thead>\n    <tr style=\"text-align: right;\">\n      <th></th>\n      <th>NOC</th>\n      <th>region</th>\n      <th>notes</th>\n    </tr>\n  </thead>\n  <tbody>\n    <tr>\n      <th>0</th>\n      <td>AFG</td>\n      <td>Afghanistan</td>\n      <td>NaN</td>\n    </tr>\n    <tr>\n      <th>1</th>\n      <td>AHO</td>\n      <td>Curacao</td>\n      <td>Netherlands Antilles</td>\n    </tr>\n    <tr>\n      <th>2</th>\n      <td>ALB</td>\n      <td>Albania</td>\n      <td>NaN</td>\n    </tr>\n    <tr>\n      <th>3</th>\n      <td>ALG</td>\n      <td>Algeria</td>\n      <td>NaN</td>\n    </tr>\n    <tr>\n      <th>4</th>\n      <td>AND</td>\n      <td>Andorra</td>\n      <td>NaN</td>\n    </tr>\n  </tbody>\n</table>\n</div>"
          },
          "metadata": {}
        }
      ]
    },
    {
      "metadata": {
        "_uuid": "acefc07322ee71f1da184f3fac8b950b6b2ef24e"
      },
      "cell_type": "markdown",
      "source": "Let's join both the tables on the 'NOC' column."
    },
    {
      "metadata": {
        "trusted": true,
        "_uuid": "02b24ac4dd53394acf91b46290ac9c957c5eb492"
      },
      "cell_type": "code",
      "source": "data = pd.merge(events, regions, how='left', on='NOC')",
      "execution_count": 118,
      "outputs": []
    },
    {
      "metadata": {
        "trusted": true,
        "_uuid": "2679cb22f7df2dff7902a06c9efc38bacd8085f6"
      },
      "cell_type": "code",
      "source": "data.shape",
      "execution_count": 119,
      "outputs": [
        {
          "output_type": "execute_result",
          "execution_count": 119,
          "data": {
            "text/plain": "(271116, 17)"
          },
          "metadata": {}
        }
      ]
    },
    {
      "metadata": {
        "trusted": true,
        "_uuid": "e339ceedfc23b87b98399d89b56264fddebe8763"
      },
      "cell_type": "code",
      "source": "data.columns",
      "execution_count": 120,
      "outputs": [
        {
          "output_type": "execute_result",
          "execution_count": 120,
          "data": {
            "text/plain": "Index(['ID', 'Name', 'Sex', 'Age', 'Height', 'Weight', 'Team', 'NOC', 'Games',\n       'Year', 'Season', 'City', 'Sport', 'Event', 'Medal', 'region', 'notes'],\n      dtype='object')"
          },
          "metadata": {}
        }
      ]
    },
    {
      "metadata": {
        "_uuid": "2463d7cde2a853f1b05bc6cc1d93faee10db6deb"
      },
      "cell_type": "markdown",
      "source": "## Participation statistics"
    },
    {
      "metadata": {
        "_uuid": "83d038a74a40baac9a59c9ca3d59cef6b439707b"
      },
      "cell_type": "markdown",
      "source": "### Country Participation over years"
    },
    {
      "metadata": {
        "trusted": true,
        "scrolled": true,
        "_uuid": "4be3fb2e3be7c2b84335eff39c8768a6eb112ce9"
      },
      "cell_type": "code",
      "source": "len(data.region.unique())",
      "execution_count": 121,
      "outputs": [
        {
          "output_type": "execute_result",
          "execution_count": 121,
          "data": {
            "text/plain": "206"
          },
          "metadata": {}
        }
      ]
    },
    {
      "metadata": {
        "_uuid": "ba5459041f021ee67a21ea55c8a2474795533a8a"
      },
      "cell_type": "markdown",
      "source": "So, we have 206 unique countries who have participated in the Olympics over the years."
    },
    {
      "metadata": {
        "trusted": true,
        "_uuid": "f69b24e75b7d1abacc4b6c5972179ceb1673b4f9"
      },
      "cell_type": "code",
      "source": "data.groupby(['Year','Season']).count()['region']",
      "execution_count": 122,
      "outputs": [
        {
          "output_type": "execute_result",
          "execution_count": 122,
          "data": {
            "text/plain": "Year  Season\n1896  Summer      380\n1900  Summer     1936\n1904  Summer     1301\n1906  Summer     1733\n1908  Summer     3101\n1912  Summer     4038\n1920  Summer     4292\n1924  Summer     5233\n      Winter      460\n1928  Summer     4992\n      Winter      582\n1932  Summer     2969\n      Winter      352\n1936  Summer     6506\n      Winter      895\n1948  Summer     6404\n      Winter     1075\n1952  Summer     8263\n      Winter     1088\n1956  Summer     5075\n      Winter     1307\n1960  Summer     8114\n      Winter     1116\n1964  Summer     7702\n      Winter     1778\n1968  Summer     8582\n      Winter     1891\n1972  Summer    10292\n      Winter     1655\n1976  Summer     8637\n      Winter     1861\n1980  Summer     7191\n      Winter     1746\n1984  Summer     9440\n      Winter     2134\n1988  Summer    12010\n      Winter     2639\n1992  Summer    12940\n      Winter     3436\n1994  Winter     3160\n1996  Summer    13745\n1998  Winter     3605\n2000  Summer    13798\n2002  Winter     4109\n2004  Summer    13421\n2006  Winter     4382\n2008  Summer    13563\n2010  Winter     4402\n2012  Summer    12881\n2014  Winter     4891\n2016  Summer    13643\nName: region, dtype: int64"
          },
          "metadata": {}
        }
      ]
    },
    {
      "metadata": {
        "_uuid": "e5cea6af3e058bc793f0608fd5208bf90aeb9efb"
      },
      "cell_type": "markdown",
      "source": "This shows that there is a disparity in how the summer and winter olympics were held in the same year before 1994, when they were separated to take place in gaps of 2 years. Let's separate them according to seasons."
    },
    {
      "metadata": {
        "trusted": true,
        "_uuid": "d62331962c40be13bcbf69848cadb289597aaf73"
      },
      "cell_type": "code",
      "source": "summer_data = data[data.Season == 'Summer']\nwinter_data = data[data.Season == 'Winter']",
      "execution_count": 123,
      "outputs": []
    },
    {
      "metadata": {
        "_uuid": "9f722e33c2a2662536942e6642209b82ec3681d3"
      },
      "cell_type": "markdown",
      "source": "Let's see the number of nations participating in the games in different seasons."
    },
    {
      "metadata": {
        "trusted": true,
        "_uuid": "8333d7a2352d8b25cc29cf24d3e9e0c8cc095521"
      },
      "cell_type": "code",
      "source": "summer_data.groupby('Year').region.nunique().plot.line(figsize=(20,8), label = 'summer')\nwinter_data.groupby('Year').region.nunique().plot.line(figsize=(20,8), label = 'winter')\nplt.title('Participation over years', fontsize=14)\nplt.legend(loc='best',fontsize=12)\n",
      "execution_count": null,
      "outputs": []
    },
    {
      "metadata": {
        "trusted": true,
        "_uuid": "bef73ba2fc05776bb2291de9c07a9937d0f1bb91"
      },
      "cell_type": "code",
      "source": "",
      "execution_count": null,
      "outputs": []
    }
  ],
  "metadata": {
    "kernelspec": {
      "display_name": "Python 3",
      "language": "python",
      "name": "python3"
    },
    "language_info": {
      "name": "python",
      "version": "3.6.6",
      "mimetype": "text/x-python",
      "codemirror_mode": {
        "name": "ipython",
        "version": 3
      },
      "pygments_lexer": "ipython3",
      "nbconvert_exporter": "python",
      "file_extension": ".py"
    }
  },
  "nbformat": 4,
  "nbformat_minor": 1
}